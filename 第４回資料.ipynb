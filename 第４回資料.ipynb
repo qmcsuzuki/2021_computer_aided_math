{
  "nbformat": 4,
  "nbformat_minor": 0,
  "metadata": {
    "colab": {
      "name": "第４回資料.ipynb",
      "provenance": [],
      "collapsed_sections": []
    },
    "kernelspec": {
      "name": "python3",
      "display_name": "Python 3"
    },
    "language_info": {
      "name": "python"
    }
  },
  "cells": [
    {
      "cell_type": "markdown",
      "source": [
        "# 2021/1/11（鈴木・第４回）再帰関数と汎用的な全探索(1)\n",
        "\n",
        "## 再帰関数とは\n",
        "\n",
        "再帰関数とは、自分自身を呼び出す関数のこと。\n",
        "なにが嬉しいのか？\n",
        "\n",
        "- `itertools`を使っても書けないような複雑な繰り返しを記述できる\n",
        "- **分割統治法:** より小さな問題を解く。その結果を使ってもとの問題を解く。\n",
        "    - たとえば漸化式はその例。\n",
        "    - 類似の内容だけど、「長さ $n$ の列に関する問題がある。最後の項の値で場合分けする。それぞれについて長さ $n-1$ の問題を解けばよい」とか。\n",
        "    - 問題を半分半分に分けて解いた結果を統合することで、計算の効率が上がるときがある（マージソート、クイックソート、高速フーリエ変換）\n",
        "\n",
        "- 木構造など、そもそも再帰的に定義される対象を扱う。\n",
        "    - 根付き木は「根」＋「部分木」＋「部分木」＋ ... + 「部分木」の構造を持つ\n",
        "\n",
        "##具体例: 和の計算\n",
        "\n",
        "$f(n) = 1 + \\cdots + n$ の値を計算する。\n",
        "以下の漸化式をもとに再帰関数を定義して計算する。\n",
        "\n",
        "- **ベースケース:** $f(0) = 0$\n",
        "- **漸化式:** $f(n) = f(n-1) + n$\n",
        "\n",
        "これらの性質を再帰関数に落とし込むと次のように実装できる。\n",
        "\n"
      ],
      "metadata": {
        "id": "ldcPwr36XtPm"
      }
    },
    {
      "cell_type": "code",
      "execution_count": null,
      "metadata": {
        "id": "8REXs4unXf1X",
        "colab": {
          "base_uri": "https://localhost:8080/"
        },
        "outputId": "2d0cb6d6-1ee2-4ebe-fa20-2e59b1366bff"
      },
      "outputs": [
        {
          "output_type": "stream",
          "name": "stdout",
          "text": [
            "15\n"
          ]
        }
      ],
      "source": [
        "def f(n):\n",
        "    if n == 0: # ベースケース\n",
        "        return 0\n",
        "    # それ以外の場合\n",
        "    return f(n-1) + n\n",
        "\n",
        "print(f(5))"
      ]
    },
    {
      "cell_type": "markdown",
      "source": [
        "上のコード内で、「初期値」と「漸化式」が両方記述されていて、「漸化式」のほうでは自分自身を呼び出していることに注意してほしい。\n",
        "\n",
        "再帰関数の「初期値」にあたるものをベースケースと呼ぶ。"
      ],
      "metadata": {
        "id": "O5l-Su-1fIpn"
      }
    },
    {
      "cell_type": "markdown",
      "source": [
        "\n",
        "## お気持ち語り\n",
        "\n",
        "漸化式は、$f(0), f(1), f(2), \\dots$ と順に値を求めるイメージを持っている人が多いと思う。\n",
        "再帰はむしろゴールから逆向きにたどっていって、スタート地点（ベースケース）にたどりついたら、その結果をもって引き返す感じ。\n",
        "\n",
        "- いま、$f(3)$ を知りたい。$f(3) = f(2) + 3$ だ。ところで $f(2)$ って何？\n",
        "- よって $f(2)$ を知りたい。$f(2) = f(1) + 2$ だ。ところで $f(1)$ って何？\n",
        "- よって $f(1)$ を知りたい。$f(1) = f(0) + 1$ だ。ところで $f(0)$ って何？\n",
        "- $f(0)$ は、知ってる！ $f(0) = 0$ だ！（ベースケース）\n",
        "- ってことは、 $f(1) = 1$ だ！\n",
        "- ってことは、 $f(2) = 3$ だ！\n",
        "- ってことは、 $f(3) = 6$ だ！めでたしめでたし。\n",
        "\n",
        "## 無限ループにご注意を\n",
        "\n",
        "再帰関数の実装を失敗すると無限ループになってしまうことが多い。ありがちなミスを挙げよう。\n",
        "\n",
        "- ベースケースを実装し忘れる\n",
        "- ベースケースにたどり着かない入力がある\n",
        "    - 上の例だと、$f(-1)$ を計算しようとすると無限ループになる\n",
        "- 問題サイズが小さくなってない\n",
        "\n",
        "いずれにせよ、数秒待ってもプログラムが終わらない場合は停止ボタンを押したあと、上のようなミスをしていないか考え直してみよう。"
      ],
      "metadata": {
        "id": "FLxKNI_lcPbc"
      }
    },
    {
      "cell_type": "markdown",
      "source": [
        "### 具体例：フィボナッチ数とメモ化再帰\n",
        "\n",
        "フィボナッチ数列 $1,2,3,5,8, \\dots$ は漸化式\n",
        "$$\n",
        "f(1) = 1,\\quad f(2) = 2,\\quad f(n) = f(n-1) +f(n-2)\n",
        "$$\n",
        "をみたす。これを再帰関数に落とし込むと次のコードになる。\n"
      ],
      "metadata": {
        "id": "rldN5W_Unl4b"
      }
    },
    {
      "cell_type": "code",
      "source": [
        "def fib(n):\n",
        "    if n == 1:\n",
        "        return 1\n",
        "    if n == 2:\n",
        "        return 2\n",
        "    return fib(n-1) + fib(n-2)\n",
        "\n",
        "print(fib(10))"
      ],
      "metadata": {
        "id": "5MPraNCdnlUh",
        "colab": {
          "base_uri": "https://localhost:8080/"
        },
        "outputId": "a18d69ef-a339-47d4-8128-f8c4de701704"
      },
      "execution_count": null,
      "outputs": [
        {
          "output_type": "stream",
          "name": "stdout",
          "text": [
            "89\n"
          ]
        }
      ]
    },
    {
      "cell_type": "markdown",
      "source": [
        "しかしこのコードは非効率である。たかが `fib(36)` の計算に５秒ほどかかってしまうことを確認してみよう。"
      ],
      "metadata": {
        "id": "yzclaeUM26pq"
      }
    },
    {
      "cell_type": "code",
      "source": [
        "fib(36)"
      ],
      "metadata": {
        "id": "ytIxDvNR3A2X",
        "colab": {
          "base_uri": "https://localhost:8080/"
        },
        "outputId": "d0c8756f-64e3-4a96-c34a-b73c69fe9f4d"
      },
      "execution_count": null,
      "outputs": [
        {
          "output_type": "execute_result",
          "data": {
            "text/plain": [
              "24157817"
            ]
          },
          "metadata": {},
          "execution_count": 4
        }
      ]
    },
    {
      "cell_type": "markdown",
      "source": [
        "なぜこんなにも効率が悪くなってしまうのだろうか。\n",
        "フィボナッチ数の計算でおこる関数の呼び出しを書いてみよう（ここで黒板に書く）。\n",
        "$n$ について指数的に呼び出し回数が増えることがわかる。\n",
        "\n",
        "黒板を見ればわかるように、この再帰では同じ計算を何度も何度も繰り返して、とても効率が悪い。\n",
        "代わりに一度計算された値を覚えるようにすれば、効率的なプログラムになる。\n",
        "これを**メモ化再帰**という。\n",
        "\n",
        "「一度計算された値を覚える」（メモする、キャッシュする）ためには、\n",
        "- 事前に入力の値の範囲がわかっているときはリストに確保\n",
        "- 辞書を使って計算値を記憶する\n",
        "- python の関数 `lru_cache` を使う\n",
        "\n",
        "などの方法がある。ここでは `lru_cache` を使う例を紹介する。\n",
        "@ の行はデコレータという機能を使っている（そういう文法だとまる覚えしたほうがよい）。\n",
        "\n",
        "#### 注意\n",
        "もちろん、いつでもメモ化が効率的とは限らない。メモ化が効率的になるのは何回も同じ計算をするときである。再帰呼び出しの過程で毎回異なる計算をする場合は効率は全くよくならない。（むしろメモする分、時間もメモリも無駄にすることになる）\n"
      ],
      "metadata": {
        "id": "mDwbDkru3ebz"
      }
    },
    {
      "cell_type": "code",
      "source": [
        "from functools import lru_cache\n",
        "\n",
        "@lru_cache(maxsize=None)\n",
        "def fib(n):\n",
        "    if n == 1:\n",
        "        return 1\n",
        "    if n == 2:\n",
        "        return 2\n",
        "    return fib(n-1) + fib(n-2)\n",
        "\n",
        "print(fib(100))"
      ],
      "metadata": {
        "id": "XH95SI1o3eHv",
        "colab": {
          "base_uri": "https://localhost:8080/"
        },
        "outputId": "54996448-1404-48fb-d1ea-a8958638f9d2"
      },
      "execution_count": 3,
      "outputs": [
        {
          "output_type": "stream",
          "name": "stdout",
          "text": [
            "573147844013817084101\n"
          ]
        }
      ]
    },
    {
      "cell_type": "markdown",
      "source": [
        "## スタックオーバーフロー\n",
        "\n",
        "ただし上のコードで `fib(1000)`を計算しようとするとエラーが出てしまう。\n",
        "再帰呼び出しをするとき、コンピュータの内部では「戻る場所」「関数内部で定義した変数の値」などのデータを（スタック領域に）覚えている。\n",
        "再帰呼び出しを何重（何百重）にも繰り返すと、\n",
        "「覚える空きスペースがない！」となってしまい、エラーとなる。\n",
        "これをスタックオーバーフローという。\n"
      ],
      "metadata": {
        "id": "4A9uIJzP_pFc"
      }
    },
    {
      "cell_type": "markdown",
      "source": [
        "## 具体例：ユークリッドの互除法\n",
        "\n",
        "ここまでは、再帰関数とはいっても for 文で求まるものばかりで、あまり嬉しさがわからなかったかもしれない。しかし再帰は本当に強力である。もっと例を見てみよう。\n",
        "\n",
        "\n",
        "$a,b$ の最大公約数 $\\gcd(a,b)$ を効率的に求める方法として、ユークリッドの互除法がある。\n",
        "ユークリッドの互除法では、以下の性質を使って最大公約数を求める。\n",
        "\n",
        "- $\\gcd(a,0) = a$（$0$ はあらゆる数の倍数である）\n",
        "- $b \\neq 0$ のとき、あまり付きの割り算 $a = qb + r$ を考えると、$\\gcd(a,b) = \\gcd(b,r)$ である\n",
        "\n",
        "さあ、ユークリッドの互除法を実装しよう。\n",
        "$\\gcd(470434748396536, 76206123870137184) = 2181038552$ を確認しよう。\n",
        "\n",
        "\n",
        "（ちなみに、python の math ライブラリには `gcd` という最大公約数を求めてくれる関数があります）\n",
        "\n",
        "\n"
      ],
      "metadata": {
        "id": "U7DD7s2rmOQy"
      }
    },
    {
      "cell_type": "code",
      "source": [
        "def gcd(a,b):\n",
        "    if b == 0:\n",
        "        return a\n",
        "    return gcd(b,a%b)\n",
        "\n",
        "print(gcd(470434748396536, 76206123870137184))"
      ],
      "metadata": {
        "id": "V9Vu7JeymORM",
        "colab": {
          "base_uri": "https://localhost:8080/"
        },
        "outputId": "b5505fff-1401-467b-a74b-d64517444651"
      },
      "execution_count": null,
      "outputs": [
        {
          "output_type": "stream",
          "name": "stdout",
          "text": [
            "2181038552\n"
          ]
        }
      ]
    },
    {
      "cell_type": "markdown",
      "source": [
        "## 具体例：ハノイの塔\n",
        "\n",
        "- $3$ 本の杭 ($0,1,2$ と番号付けする) と、中央に穴の開いた大きさの異なる $N$ 枚の円盤がある。\n",
        "- 最初はすべての円盤が、左端の杭に小さいものが上になるように順に積み重ねられている。\n",
        "- 円盤を一回に一枚ずつどれかの杭に移動させることができるが、小さな円盤の上に大きな円盤を乗せることはできない。\n",
        "\n",
        "この条件のもとで、すべての円盤を右端の杭に移動させたい。その最短手順を求めよ。（図を黒板に書く。）\n",
        "\n",
        "**解答例**\n",
        "\n",
        "問題に補助変数を導入して、杭 $a$ から杭 $b$ に $N$ 枚の円盤を移動させる、とする。以下のようにすると、 $N-1$ のときの解答を使って $N$ のときの解答が作れる\n",
        "- 上 $N-1$ 枚を $a$ から $c$ に動かす。ここで $c$ は $a$ とも $b$ とも異なる（$c=3-a-b$ として簡単に計算できる）\n",
        "- 一番大きい円盤を $a$ から $b$ に動かす。\n",
        "- $N-1$ 枚を $c$ から $b$ に動かす。\n",
        "\n",
        "ベースケースは $N=0$ の場合で、「何もしない」が解である。\n",
        "\n",
        "以上を再帰関数に落とし込むと以下のようになる。\n"
      ],
      "metadata": {
        "id": "PoSkMdrJWigE"
      }
    },
    {
      "cell_type": "code",
      "source": [
        "def hanoi(n,a,b):\n",
        "    if n == 0:\n",
        "        return\n",
        "    \n",
        "    c = 3-a-b # スタートでもゴールでもない杭の位置\n",
        "    hanoi(n-1,a,c)\n",
        "    print(f\"from {a} to {b}\") # 「f文字列」 という記法で、文字列の一部を変数に依存させたいときの書き方。\n",
        "    hanoi(n-1,c,b)\n",
        "\n",
        "hanoi(3,0,2)\n",
        "\n"
      ],
      "metadata": {
        "id": "95y3mFvRWigS",
        "colab": {
          "base_uri": "https://localhost:8080/"
        },
        "outputId": "f5df3f64-7239-4343-dd90-6c7d9d59823d"
      },
      "execution_count": null,
      "outputs": [
        {
          "output_type": "stream",
          "name": "stdout",
          "text": [
            "from 0 to 2\n",
            "from 0 to 1\n",
            "from 2 to 1\n",
            "from 0 to 2\n",
            "from 1 to 0\n",
            "from 1 to 2\n",
            "from 0 to 2\n"
          ]
        }
      ]
    },
    {
      "cell_type": "markdown",
      "source": [
        "## 具体例：フラクタル図形\n",
        "\n",
        "ここでは、レベル $L$ のコッホ曲線を書く疑似アルゴリズムを考えよう。コッホ曲線の説明は黒板に書く（以下のリンク）\n",
        "https://ja.wikipedia.org/wiki/%E3%82%B3%E3%83%83%E3%83%9B%E6%9B%B2%E7%B7%9A\n",
        "\n",
        "レベル 0 のコッホ曲線は直線、レベル 1 は ＿／＼＿ のような形になる。\n",
        "コッホ曲線は、以下のような疑似コードで書くことができる（黒板で実例を見せる）\n",
        "```\n",
        "def Koch(L):\n",
        "    if L == 0:\n",
        "        長さ 1 直進\n",
        "    Koch(L-1)\n",
        "    左に60度回転\n",
        "    Koch(L-1)\n",
        "    右に120度回転\n",
        "    Koch(L-1)\n",
        "    左に60度回転\n",
        "    Koch(L-1)\n",
        "```"
      ],
      "metadata": {
        "id": "l0ku3SmRuGDc"
      }
    },
    {
      "cell_type": "markdown",
      "source": [
        "## 具体例：木構造（ディレクトリ構造を例に）\n",
        "\n",
        "**問題**\n",
        "とあるフォルダの中のファイル名をすべて知りたい。\n",
        "ただし、フォルダの中にフォルダが入っていることもあるし、何重の入れ子構造になっているか知らない。\n",
        "どうすればよいか？\n",
        "ただし、以下の関数が使えるとする\n",
        "\n",
        "- `os.listdir(path)`: path というディレクトリの中のファイル名およびディレクトリ名のリストを出力\n",
        "- `os.path.isdir(path)`: path がディレクトリなら `True`, そうでないなら `False`\n",
        "\n",
        "**説明**\n",
        "\n",
        "（根付き）木構造は以下のように定義される（そもそも定義が再帰的であることに注意！）\n",
        "\n",
        "- １点は木である\n",
        "- 根に木をいくつかくっつけたものは木である\n",
        "\n",
        "ディレクトリ構造は木構造なので、再帰関数を使えばディレクトリを再帰的にたどることができる。\n",
        "\n",
        "${}$\n",
        "${}$\n"
      ],
      "metadata": {
        "id": "QPreF6RA_zaS"
      }
    },
    {
      "cell_type": "markdown",
      "source": [
        "以下の例のように、ファイル名やディレクトリ名の一覧を取得できる。\n"
      ],
      "metadata": {
        "id": "JdkCxPOILhaA"
      }
    },
    {
      "cell_type": "code",
      "source": [
        "import os\n",
        "files = os.listdir('./') # ディレクトリの中のファイル名やディレクトリ名の一覧\n",
        "print(files)\n"
      ],
      "metadata": {
        "colab": {
          "base_uri": "https://localhost:8080/"
        },
        "id": "1U78hPTtAiHJ",
        "outputId": "3d05edff-4de2-465b-b734-274c9bdd63d5"
      },
      "execution_count": null,
      "outputs": [
        {
          "output_type": "stream",
          "name": "stdout",
          "text": [
            "['.config', 'sample_data']\n"
          ]
        }
      ]
    },
    {
      "cell_type": "markdown",
      "source": [
        "すると、フォルダを開く関数を再帰的に実行すれば、すべてのフォルダについて、中身の一覧が取得できる。\n",
        "\n",
        "- 「すべてのディレクトリの中身を見る」とは、\n",
        "    - 今いるところにあるディレクトリすべてについて、\n",
        "    - 「すべてのディレクトリの中身を見る」こと\n"
      ],
      "metadata": {
        "id": "eHT2aY4WLCcK"
      }
    },
    {
      "cell_type": "code",
      "source": [
        "import os\n",
        "def open_all_directories(dir):\n",
        "    names = os.listdir(dir)            # ディレクトリの中身のリスト\n",
        "    print(dir)\n",
        "    print(names)                   # ディレクトリの中身のリストをプリント\n",
        "    for file in names:       # すべてのファイル or ディレクトリについて、\n",
        "        path = os.path.join(dir, file)\n",
        "        if os.path.isdir(path):        # もしディレクトリなら\n",
        "            open_all_directories(path) # 再帰的に実行\n",
        "\n",
        "open_all_directories('./')\n"
      ],
      "metadata": {
        "colab": {
          "base_uri": "https://localhost:8080/"
        },
        "id": "RELVbFZFFIOV",
        "outputId": "7d747adf-4807-4cc8-8884-5bce47f1794a"
      },
      "execution_count": null,
      "outputs": [
        {
          "output_type": "stream",
          "name": "stdout",
          "text": [
            "./\n",
            "['.config', 'sample_data']\n",
            "./.config\n",
            "['.last_update_check.json', 'logs', 'config_sentinel', '.last_survey_prompt.yaml', 'active_config', 'gce', 'configurations', '.last_opt_in_prompt.yaml']\n",
            "./.config/logs\n",
            "['2022.01.07']\n",
            "./.config/logs/2022.01.07\n",
            "['14.32.37.114755.log', '14.32.57.118850.log', '14.33.22.232212.log', '14.33.42.565580.log', '14.33.15.504888.log', '14.33.41.864886.log']\n",
            "./.config/configurations\n",
            "['config_default']\n",
            "./sample_data\n",
            "['README.md', 'anscombe.json', 'california_housing_train.csv', 'mnist_test.csv', 'mnist_train_small.csv', 'california_housing_test.csv']\n"
          ]
        }
      ]
    },
    {
      "cell_type": "markdown",
      "source": [
        "## 練習問題\n",
        "\n",
        "### 練習問題１: 階乗\n",
        "\n",
        "$f(n) = n!$ の値を、以下の漸化式を再帰関数に落とし込むことで求めよう。\n",
        "\n",
        "- $f(1) = 1$\n",
        "- $f(n) = n \\cdot f(n-1)$\n",
        "\n",
        "とくに $f(6) = 720$ となることを確認しよう。\n",
        "\n"
      ],
      "metadata": {
        "id": "NhZHi6Qkoa13"
      }
    },
    {
      "cell_type": "code",
      "source": [
        "## ここに書いてみよう\n",
        "\n",
        "\n",
        "\n",
        "\n"
      ],
      "metadata": {
        "id": "_MPCh6Xboaje"
      },
      "execution_count": null,
      "outputs": []
    },
    {
      "cell_type": "markdown",
      "source": [
        "**解答例**"
      ],
      "metadata": {
        "id": "ukmXW8POoqRw"
      }
    },
    {
      "cell_type": "code",
      "source": [
        "def f(n):\n",
        "    if n == 1:\n",
        "        return 1\n",
        "    else:\n",
        "        return n * f(n-1)\n",
        "\n",
        "print(f(6))\n"
      ],
      "metadata": {
        "id": "_UC6B4AEoql9",
        "colab": {
          "base_uri": "https://localhost:8080/"
        },
        "outputId": "f5ebba9a-ec49-4ace-e6e8-f71a49482287"
      },
      "execution_count": null,
      "outputs": [
        {
          "output_type": "stream",
          "name": "stdout",
          "text": [
            "720\n"
          ]
        }
      ]
    },
    {
      "cell_type": "markdown",
      "source": [
        "### 練習問題２（桁和）\n",
        "\n",
        "$N$ の $10$ 進表記での各桁の和を $f(N)$ とする。\n",
        "たとえば $f(314) = 3+1+4 = 8$ である。\n",
        "$f$ を以下に基づく再帰関数で実装せよ。\n",
        "\n",
        "- $n = 10q+r$ のとき、 $f(n) = f(q) + r$\n",
        "- $f(0) = 0$\n",
        "\n",
        "$f(1234567890) = 45$ を確認すること。\n"
      ],
      "metadata": {
        "id": "l6A_piS8a9Zs"
      }
    },
    {
      "cell_type": "code",
      "source": [
        "### ここに書いてみよう\n",
        "\n",
        "\n",
        "\n",
        "\n",
        "\n",
        "\n",
        "\n",
        "\n",
        "\n",
        "\n",
        "\n"
      ],
      "metadata": {
        "id": "ikKVx2CIbaoC"
      },
      "execution_count": null,
      "outputs": []
    },
    {
      "cell_type": "markdown",
      "source": [
        "**解答例**"
      ],
      "metadata": {
        "id": "-lPuDsq8bdwT"
      }
    },
    {
      "cell_type": "code",
      "source": [
        "def f(n):\n",
        "    if n == 0:\n",
        "        return 0\n",
        "    return f(n//10) + n%10\n",
        "\n",
        "print(f(1234567890))"
      ],
      "metadata": {
        "colab": {
          "base_uri": "https://localhost:8080/"
        },
        "id": "5pV2knMSbfwx",
        "outputId": "0379465c-f6f1-41e3-f73e-734dace18738"
      },
      "execution_count": null,
      "outputs": [
        {
          "output_type": "stream",
          "name": "stdout",
          "text": [
            "45\n"
          ]
        }
      ]
    },
    {
      "cell_type": "markdown",
      "source": [
        "### 練習問題３（二項係数を漸化式から計算する）\n",
        "\n",
        "二項係数 $\\mathrm{binom}(n,k) = \\frac{n!}{k!(n-k)!}$ を、以下の方針で求めてみよう。\n",
        "\n",
        "- 漸化式 $\\mathrm{binom}(n,k) = \\mathrm{binom}(n-1,k-1) + \\mathrm{binom}(n-1,k)$ を使ってメモ化再帰する\n",
        "- ベースケースは、$\\mathrm{binom}(0,0)$, $\\mathrm{binom}(n,-1)$, $\\mathrm{binom}(n,n+1)$ を適切に設定する（つまり、パスカルの三角形の頂点と外側）\n",
        "\n",
        "そして $\\mathrm{binom}(30,15) = 155117520$ であることを確かめよ。（メモ化を忘れずに！）"
      ],
      "metadata": {
        "id": "VVAvI9hKZf-X"
      }
    },
    {
      "cell_type": "code",
      "source": [
        "# ここに書いてみよう\n",
        "\n",
        "\n",
        "\n",
        "\n",
        "\n",
        "\n",
        "\n",
        "\n",
        "\n",
        "\n",
        "\n"
      ],
      "metadata": {
        "id": "Yow66fTgaL7r"
      },
      "execution_count": null,
      "outputs": []
    },
    {
      "cell_type": "markdown",
      "source": [
        "**解答例**"
      ],
      "metadata": {
        "id": "AU56Z8iYaPP3"
      }
    },
    {
      "cell_type": "code",
      "source": [
        "from functools import lru_cache\n",
        "\n",
        "@lru_cache(maxsize=None)\n",
        "def binom(n,k):\n",
        "    if n == 0 and k == 0:\n",
        "        return 1\n",
        "    elif k < 0 or k > n:\n",
        "        return 0\n",
        "    else:\n",
        "        return binom(n-1,k-1) + binom(n-1,k)\n",
        "\n",
        "print(binom(30,15))\n",
        "\n",
        "# 以下は本題とは関係ないが、階乗で計算する方法\n",
        "# ver 3.8 以降では math.comb(n,k) というそのまんまの関数があるが、colab にある python は 3.7 なので使えない\n",
        "from math import factorial\n",
        "def f(n,k):\n",
        "    return factorial(n)//factorial(k)//factorial(n-k)\n",
        "print(f(30,15))\n",
        "\n",
        "\n"
      ],
      "metadata": {
        "id": "l3OKu1VXaWGk",
        "colab": {
          "base_uri": "https://localhost:8080/"
        },
        "outputId": "3e16ac5d-12c2-48d4-8f80-16311bf7e1db"
      },
      "execution_count": null,
      "outputs": [
        {
          "output_type": "stream",
          "name": "stdout",
          "text": [
            "155117520\n",
            "155117520\n"
          ]
        }
      ]
    },
    {
      "cell_type": "markdown",
      "source": [
        "## 練習問題：グレイコード（難しいかも）\n",
        "\n",
        "$N$ ビットのグレイコードとは、以下の条件をみたすビット列の列である。\n",
        "- 各要素は $0,1$ からなる長さ $N$ の列（ビット列）\n",
        "- グレイコードの中にそのようなビット列が１回ずつあらわれる（つまりグレイコードは $2^N$ 個のビット列からなる）\n",
        "- どの隣同士のビット列をとってきても、その 2 つのビット列で異なるビットはちょうど１つ\n",
        "\n",
        "たとえば、以下の列は $3$ ビットのグレイコードである。\n",
        "$$\n",
        "000,001,011,010,110,111,101,100\n",
        "$$\n",
        "\n",
        "- $N$ ビットのグレイコード（をあらわす、文字列を要素とするリスト）を出力する関数 $f(N)$ を実装せよ\n",
        "- $f(3)$ や $f(4)$ を出力するなどして正しさを確かめよ。\n"
      ],
      "metadata": {
        "id": "x5T5DcAWhElW"
      }
    },
    {
      "cell_type": "code",
      "source": [
        "# ここに書いてみよう\n",
        "\n",
        "\n",
        "\n",
        "\n",
        "\n",
        "\n",
        "\n",
        "\n",
        "\n",
        "\n",
        "\n",
        "\n"
      ],
      "metadata": {
        "id": "9Km81NClh6Ru"
      },
      "execution_count": null,
      "outputs": []
    },
    {
      "cell_type": "markdown",
      "source": [
        "**解答例**\n",
        "\n",
        "$N-1$ のときのグレイコード r があったとき、\n",
        "- r の各ビット列の先頭に $0$ をつけたもの\n",
        "- r を逆順にして、各ビット列の先頭に $1$ をつけたもの\n",
        "\n",
        "をそのままつなげれば $N$ のときのグレイコードになる。\n",
        "\n",
        "ベースケースは $N=0$ のときで、空文字列（長さ 0 のビット列）からなる長さ 1 の列がグレイコードとなる。"
      ],
      "metadata": {
        "id": "ymX373d7i0BV"
      }
    },
    {
      "cell_type": "code",
      "source": [
        "def gray(n):\n",
        "    if n == 0:\n",
        "        return [\"\"]\n",
        "    R = gray(n-1)\n",
        "    R0 = [\"0\" + i for i in R]        # 内包表記を利用すると、「すべての文字列の頭に0をつける」がカンタンにできる\n",
        "    R1 = [\"1\" + i for i in R[::-1]]  # R[::-1] で、逆順にした文字列をあらわす\n",
        "    return R0 + R1\n",
        "\n",
        "print(gray(3))\n"
      ],
      "metadata": {
        "id": "OGf6Naxxim3f"
      },
      "execution_count": null,
      "outputs": []
    },
    {
      "cell_type": "markdown",
      "source": [
        "## 練習問題：マージソート（難しいかも）\n",
        "\n",
        "**ソート**とは、リストの要素を小さい順に並べることである。たとえば、\n",
        "$[3,1,4,1,5,9,2,6,5,3,5]$ をソートすると $[1, 1, 2, 3, 3, 4, 5, 5, 5, 6, 9]$ となる。\n",
        "\n",
        "python には組み込み関数 `a.sort()` や `sorted(a)` があるが、\n",
        "ここでは「マージソート」というアルゴリズムを自前で実装してみよう。\n",
        "\n",
        "マージソートのアイデアは、\n",
        "- 列を前半分と後ろ半分の２つに分ける\n",
        "    - リスト $A$ の長さ `len(A)` が $n$ のとき、$A$ の前半分は `A[:n//2]`, 後ろ半分は `A[n//2:]` と書ける\n",
        "- それぞれをソートする（サイズが半分の問題を２回解く）\n",
        "- ソート済み列２つをくっつけて（マージして）１つのソート済み列を作る\n",
        "    - （実は、ここでソート済み列のマージは効率的にできるという事実を使っている）\n",
        "\n",
        "というものである。ベースケースは要素が 1 つの列で、すでにソート済みである。\n",
        "\n",
        "リスト $A$ を入力とし、$A$ をソートした列を返す関数 `merge_sort(A)` を実装せよ。\n",
        "ここで、 ソート済み列 $A,B$ をマージして１つのソート済み列を返す関数 `merge(A,B)` は実装しておいた。部品として使ってもよい。\n",
        "\n"
      ],
      "metadata": {
        "id": "CzdSevepNDzV"
      }
    },
    {
      "cell_type": "code",
      "source": [
        "# ご自由にお使いください\n",
        "def merge(A,B):\n",
        "    C = A + B[::-1]\n",
        "    L,R = 0, len(C)-1\n",
        "    res = []\n",
        "    while R-L >= 0:\n",
        "        if C[L] <= C[R]:\n",
        "            res.append(C[L])\n",
        "            L += 1\n",
        "        else:\n",
        "            res.append(C[R])\n",
        "            R -= 1\n",
        "    return res\n",
        "\n",
        "## ここに解答を書いてください\n",
        "\n",
        "\n",
        "\n",
        "\n",
        "\n",
        "\n",
        "\n",
        "\n",
        "\n",
        "\n"
      ],
      "metadata": {
        "id": "oZW7onzsOrE9"
      },
      "execution_count": null,
      "outputs": []
    },
    {
      "cell_type": "markdown",
      "source": [
        "**解答例**"
      ],
      "metadata": {
        "id": "fIWDNNdOPbPp"
      }
    },
    {
      "cell_type": "code",
      "source": [
        "def merge_sort(A):\n",
        "    n = len(A)\n",
        "    if n == 1:\n",
        "        return A\n",
        "    A0 = merge_sort(A[:n//2])\n",
        "    A1 = merge_sort(A[n//2:])\n",
        "    return merge(A0,A1)\n",
        "\n",
        "\n",
        "\n",
        "x = merge_sort([3,1,4,1,5,9,2,6,5,3,5])\n",
        "print(x)\n",
        "\n",
        "\n",
        "z = list(range(10**4)[::-1]) # 逆順\n",
        "print(merge_sort(z) == sorted(z)) # 本当にソートされているか確認\n"
      ],
      "metadata": {
        "colab": {
          "base_uri": "https://localhost:8080/"
        },
        "id": "QVwauQBAPbdo",
        "outputId": "3b7bde5a-c6da-4ca4-d2e7-a8c082336dd8"
      },
      "execution_count": null,
      "outputs": [
        {
          "output_type": "stream",
          "name": "stdout",
          "text": [
            "[1, 1, 2, 3, 3, 4, 5, 5, 5, 6, 9]\n",
            "True\n"
          ]
        }
      ]
    }
  ]
}